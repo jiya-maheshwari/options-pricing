{
 "cells": [
  {
   "cell_type": "markdown",
   "id": "912f741b",
   "metadata": {},
   "source": [
    "# Options Valuation and Implied Volatility \n",
    "\n",
    "**JIYA MAHESHWARI**\n",
    "NetId: jiyam2"
   ]
  },
  {
   "cell_type": "markdown",
   "id": "751d579e",
   "metadata": {},
   "source": [
    "## 2.2: Option Valuation"
   ]
  },
  {
   "cell_type": "code",
   "execution_count": 6,
   "id": "657c2e38",
   "metadata": {},
   "outputs": [
    {
     "name": "stdout",
     "output_type": "stream",
     "text": [
      "Call price with dividend 14.205799223543323\n",
      "Put price with dividend 9.32874167361473\n",
      "Call price without dividend 14.231254785985819\n",
      "Put price without dividend 9.354197236057232\n"
     ]
    }
   ],
   "source": [
    "import numpy as np\n",
    "from scipy.stats import norm\n",
    "\n",
    "def black_scholes1(S, K, r, d, T, sigma):\n",
    "    \n",
    "  d1 = (np.log(S / K) + (r - d + sigma**2 / 2) * T) / (sigma * np.sqrt(T))\n",
    "  d2 = d1 - sigma * np.sqrt(T)\n",
    "  call_price = S * norm.cdf(d1,0,1) - K * np.exp(-r * T) * norm.cdf(d2,0,1)\n",
    "  put_price = K * np.exp(-r * T) * norm.cdf(-d2,0,1) - S * norm.cdf(-d1,0,1)\n",
    "  return call_price, put_price\n",
    "\n",
    "def black_scholes2(S, K, r, d, T, sigma):\n",
    "    \n",
    "  d1 = (np.log(S / K) + (r + sigma**2 / 2) * T) / (sigma * np.sqrt(T))\n",
    "  d2 = d1 - sigma * np.sqrt(T)\n",
    "  call_price = S * norm.cdf(d1,0,1) - K * np.exp(-r * T) * norm.cdf(d2,0,1)\n",
    "  put_price = K * np.exp(-r * T) * norm.cdf(-d2,0,1) - S * norm.cdf(-d1,0,1)\n",
    "  return call_price, put_price\n",
    "\n",
    "S = 100\n",
    "K = 100\n",
    "r = 0.05\n",
    "d = 0.02\n",
    "T = 1\n",
    "sigma = 0.3\n",
    "\n",
    "call_price, put_price = black_scholes1(S, K, r, d, T, sigma)\n",
    "call_p, put_p =  black_scholes2(S, K, r, d, T, sigma)\n",
    "print(\"Call price with dividend\", call_price)\n",
    "print(\"Put price with dividend\", put_price)\n",
    "print(\"Call price without dividend\", call_p)\n",
    "print(\"Put price without dividend\", put_p)"
   ]
  },
  {
   "cell_type": "markdown",
   "id": "6b935b70",
   "metadata": {},
   "source": [
    "We cannot use just S, K, r, d, T to calculate the price of the call/put option using Black-Scholes since it requires the sigma (volatility) to determine the level of variation in the stock price before the option expires in order to theoretically determine the price of an options, also its assumed that no dividends are paid out in the lifetime of the option.\n",
    "\n",
    "No, we don't have a sigma value when we think of the real world, especially since sigma is consistent throughout the lifetime of the option, which is untrue in the real world. I believe that people replace sigma (expected volatility) with implied volatility or historical volatility."
   ]
  },
  {
   "cell_type": "markdown",
   "id": "8383e64a",
   "metadata": {},
   "source": [
    "## 2.3 : Implied Volatility "
   ]
  },
  {
   "cell_type": "code",
   "execution_count": 7,
   "id": "3d0d42c2",
   "metadata": {},
   "outputs": [
    {
     "name": "stdout",
     "output_type": "stream",
     "text": [
      "[σ]= [0.3] , Object Function Value: 24.034634816970463\n",
      "[σ]= [0.315] , Object Function Value: 18.767001622508175\n",
      "[σ]= [0.33] , Object Function Value: 14.150853429754603\n",
      "[σ]= [0.345] , Object Function Value: 10.186549827986225\n",
      "[σ]= [0.375] , Object Function Value: 4.212211590293623\n",
      "[σ]= [0.405] , Object Function Value: 0.8370907142038335\n",
      "[σ]= [0.465] , Object Function Value: 1.8289822682138346\n",
      "[σ]= [0.435] , Object Function Value: 0.048465400498029935\n",
      "[σ]= [0.465] , Object Function Value: 1.8289822682138346\n",
      "[σ]= [0.42] , Object Function Value: 0.1204528089379632\n",
      "[σ]= [0.45] , Object Function Value: 0.618823242751851\n",
      "[σ]= [0.4275] , Object Function Value: 0.004016042163719536\n",
      "[σ]= [0.42] , Object Function Value: 0.1204528089379632\n",
      "[σ]= [0.43125] , Object Function Value: 0.006148104889852952\n",
      "[σ]= [0.42375] , Object Function Value: 0.04210575326979777\n",
      "[σ]= [0.429375] , Object Function Value: 5.661310955955608e-05\n",
      "[σ]= [0.43125] , Object Function Value: 0.006148104889852952\n",
      "[σ]= [0.4284375] , Object Function Value: 0.0007796775075350986\n",
      "[σ]= [0.4303125] , Object Function Value: 0.0018462798575279965\n",
      "[σ]= [0.42890625] , Object Function Value: 0.00010401825768162668\n",
      "[σ]= [0.42984375] , Object Function Value: 0.0006373908065060608\n",
      "[σ]= [0.42914063] , Object Function Value: 1.7883689461857115e-06\n",
      "[σ]= [0.42890625] , Object Function Value: 0.00010401825768148175\n",
      "[σ]= [0.42925781] , Object Function Value: 9.56946739211209e-06\n",
      "[σ]= [0.42902344] , Object Function Value: 3.3270928066641635e-05\n",
      "[σ]= [0.42919922] , Object Function Value: 7.710305671584172e-07\n",
      "Optimization terminated successfully.\n",
      "         Current function value: 0.000001\n",
      "         Iterations: 13\n",
      "         Function evaluations: 26\n",
      "[σ]= [0.3] , Object Function Value: 0.0006479856592641365\n",
      "[σ]= [0.315] , Object Function Value: 0.2969899003860458\n",
      "[σ]= [0.285] , Object Function Value: 0.35503833399998\n",
      "[σ]= [0.3075] , Object Function Value: 0.067475654913242\n",
      "[σ]= [0.2925] , Object Function Value: 0.09651287136835157\n",
      "[σ]= [0.30375] , Object Function Value: 0.013724776729903037\n",
      "[σ]= [0.29625] , Object Function Value: 0.02824492537309344\n",
      "[σ]= [0.301875] , Object Function Value: 0.0021020883816929284\n",
      "[σ]= [0.298125] , Object Function Value: 0.009362352619612038\n",
      "[σ]= [0.3009375] , Object Function Value: 0.00010396763722647226\n",
      "[σ]= [0.301875] , Object Function Value: 0.0021020883816929284\n",
      "[σ]= [0.30046875] , Object Function Value: 5.82102766710173e-05\n",
      "[σ]= [0.3] , Object Function Value: 0.0006479856592641365\n",
      "[σ]= [0.30070312] , Object Function Value: 1.6472199294647194e-06\n",
      "[σ]= [0.3009375] , Object Function Value: 0.00010396763722647226\n",
      "[σ]= [0.30058594] , Object Function Value: 1.0068330659882161e-05\n",
      "[σ]= [0.30082031] , Object Function Value: 3.294697826789497e-05\n",
      "[σ]= [0.30064453] , Object Function Value: 8.926687203540373e-07\n",
      "Optimization terminated successfully.\n",
      "         Current function value: 0.000001\n",
      "         Iterations: 9\n",
      "         Function evaluations: 18\n"
     ]
    }
   ],
   "source": [
    "from scipy.optimize import fmin\n",
    "import numpy as np\n",
    "import scipy.stats as si\n",
    "\n",
    "def NORMSDIST(x):\n",
    "    NORMSDIST = si.norm.cdf(x,0.0,1.0)\n",
    "    return(NORMSDIST)\n",
    "\n",
    "X = K\n",
    "\n",
    "def ImpliedVolatilityCall(s):\n",
    "    d1 = ( (np.log(S/X)+(r-d+0.5*s[0]**2)*T) / (s[0]*np.sqrt(T)) )\n",
    "    d2 = ( (np.log(S/X)+(r-d-0.5*s[0]**2)*T) / (s[0]*np.sqrt(T)) )\n",
    "    of = (  X*np.exp(-r*T)*NORMSDIST(-d2) - S*NORMSDIST(-d1) ) - call_p\n",
    "    val = of**2\n",
    "    print(\"[σ]=\",s,\", Object Function Value:\", val)\n",
    "    return(val)\n",
    "    \n",
    "s = fmin(ImpliedVolatilityCall, [0.3])\n",
    "\n",
    "\n",
    "def ImpliedVolatilityPut(s):\n",
    "    d1 = ( (np.log(S/X)+(r-d+0.5*s[0]**2)*T) / (s[0]*np.sqrt(T)) )\n",
    "    d2 = ( (np.log(S/X)+(r-d-0.5*s[0]**2)*T) / (s[0]*np.sqrt(T)) )\n",
    "    of = (  X*np.exp(-r*T)*NORMSDIST(-d2) - S*NORMSDIST(-d1) ) - put_p\n",
    "    val = of**2\n",
    "    print(\"[σ]=\",s,\", Object Function Value:\", val)\n",
    "    return(val)\n",
    "    \n",
    "s = fmin(ImpliedVolatilityPut, [0.3])"
   ]
  },
  {
   "cell_type": "markdown",
   "id": "cc74a079",
   "metadata": {},
   "source": [
    "We can calculate the implied volatility. We were able to get the implied volatility equal to what we assumd (0.3) for the put option but not the call option.\n",
    "\n",
    "When we look at SPY options, they all don't have the same implied volatility.\n",
    "\n",
    "The Black-Scholes assumption is that the underlying price of an asset follows a geometric brownian motion, that it can't be predicted. In reality, the implied volatility is higher for options with strike prices out of the money and in the money, and if the strike price is at the money the implied volatility is lower, in comparision."
   ]
  },
  {
   "cell_type": "markdown",
   "id": "cd89fa52",
   "metadata": {},
   "source": [
    "## 2.4 Sensitivities "
   ]
  },
  {
   "cell_type": "code",
   "execution_count": 12,
   "id": "dbecc5ea",
   "metadata": {},
   "outputs": [
    {
     "name": "stdout",
     "output_type": "stream",
     "text": [
      "Call Delta: 0.5987063256829237\n"
     ]
    }
   ],
   "source": [
    "import py_vollib.black_scholes.greeks.analytical as greeks\n",
    "\n",
    "flag = 'c'\n",
    "\n",
    "call_delta = greeks.delta(flag, S, K, T, r-d, sigma)\n",
    "\n",
    "print(\"Call Delta:\", call_delta)"
   ]
  },
  {
   "cell_type": "markdown",
   "id": "7969047a",
   "metadata": {},
   "source": [
    "After changing the S slightly:"
   ]
  },
  {
   "cell_type": "code",
   "execution_count": 49,
   "id": "f394a1d2",
   "metadata": {},
   "outputs": [
    {
     "name": "stdout",
     "output_type": "stream",
     "text": [
      "Call Delta: 0.6600625627722524\n",
      "New Call Option Value at S = $ 105: 17.479824276878873\n"
     ]
    }
   ],
   "source": [
    "call_delta = greeks.delta(flag, 105, K, T, r-d, sigma)\n",
    "\n",
    "print(\"Call Delta:\", call_delta)\n",
    "\n",
    "print(\"New Call Option Value at S = $ 105:\", black_scholes1(105, K, r, d, T, sigma)[0])"
   ]
  },
  {
   "cell_type": "code",
   "execution_count": 55,
   "id": "bfa003fa",
   "metadata": {},
   "outputs": [
    {
     "data": {
      "image/png": "[encoded data removed]",
      "text/plain": [
       "<Figure size 640x480 with 1 Axes>"
      ]
     },
     "metadata": {},
     "output_type": "display_data"
    }
   ],
   "source": [
    "import matplotlib.pyplot as plt\n",
    "import numpy as np\n",
    "\n",
    "S_list = np.array([50, 60, 70, 80, 90, 95, 99])\n",
    "\n",
    "actual_values = np.array([black_scholes1(s, K, r, d, sigma, T)[0] for s in S_list])\n",
    "\n",
    "deltas = np.array([greeks.delta(flag,s,K,T,r-d,sigma) for s in S_list])\n",
    "\n",
    "approximate_values = call_p + deltas*(S_list-K)\n",
    "\n",
    "plt.plot(S_list, actual_values, label=\"Actual Option Value\")\n",
    "plt.plot(S_list, approximate_values, label=\"Delta Approximation\")\n",
    "plt.xlabel(\"Underlying Price (S)\")\n",
    "plt.ylabel(\"Option Value\")\n",
    "plt.title(\"Option Value vs. Delta Approximation\")\n",
    "plt.legend()\n",
    "plt.grid(True)\n",
    "plt.show()"
   ]
  },
  {
   "cell_type": "code",
   "execution_count": null,
   "id": "2beeb850",
   "metadata": {},
   "outputs": [],
   "source": []
  }
 ],
 "metadata": {
  "kernelspec": {
   "display_name": "Python 3 (ipykernel)",
   "language": "python",
   "name": "python3"
  },
  "language_info": {
   "codemirror_mode": {
    "name": "ipython",
    "version": 3
   },
   "file_extension": ".py",
   "mimetype": "text/x-python",
   "name": "python",
   "nbconvert_exporter": "python",
   "pygments_lexer": "ipython3",
   "version": "3.11.4"
  }
 },
 "nbformat": 4,
 "nbformat_minor": 5
}
